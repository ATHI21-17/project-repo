{
 "cells": [
  {
   "cell_type": "markdown",
   "id": "6cdfc96e-046b-4c00-8c1e-fe41e78886ab",
   "metadata": {},
   "source": [
    "# Data Science Tools and Ecosystem"
   ]
  },
  {
   "cell_type": "markdown",
   "id": "e43ae4a0-fdab-4fdf-b0d0-cc4d4e5264b2",
   "metadata": {},
   "source": [
    "### In this notebook we get a summerized view on the topic \"Data Science Tools and Ecosystem\"."
   ]
  },
  {
   "cell_type": "markdown",
   "id": "bcd5c0b9-65f7-4984-ac4e-bced0c5d3b41",
   "metadata": {},
   "source": [
    "**Objectives:**\n",
    "\n",
    "+ List popular languages for Data Science \n",
    "+ List commonly used libraries for Data Science \n",
    "- Create a table on Data Science Tools \n",
    "- Write some examples of evaluating arithematic expression in Python\n"
   ]
  },
  {
   "cell_type": "markdown",
   "id": "8f00aef9-24e6-44b1-958f-1c1316619dae",
   "metadata": {},
   "source": [
    "*Some of the most popular languages Data Scientist use are :*"
   ]
  },
  {
   "cell_type": "markdown",
   "id": "67d0cdf6-53b4-4d23-a9fa-e32c021de755",
   "metadata": {},
   "source": [
    "1. Python\n",
    "2. R\n",
    "3. SQL\n",
    "4. Java\n",
    "5. C+++\n"
   ]
  },
  {
   "cell_type": "markdown",
   "id": "7ad3a24c-894b-47c2-99d4-3dade1d88f01",
   "metadata": {},
   "source": [
    "_Some of the libraries commonly used by Data Scientist include :_ "
   ]
  },
  {
   "cell_type": "markdown",
   "id": "a1b652ff-4f2f-45f9-8a99-c2c12882b937",
   "metadata": {},
   "source": [
    "1. Pandas\n",
    "2. NumPy\n",
    "3. Matplotlib\n",
    "4. Scikit-learn\n",
    "5. Apache Spark\n"
   ]
  },
  {
   "cell_type": "markdown",
   "id": "50393ee2-fc83-4644-9036-e9f870f235b5",
   "metadata": {},
   "source": [
    "|Data Science Tools|\n",
    "|------------------|\n",
    "|Jupyter Notebook|\n",
    "|Jupyter Lab|\n",
    "|RStudio|"
   ]
  },
  {
   "cell_type": "markdown",
   "id": "c331b081-7443-41e4-a138-4682e6cc3a1e",
   "metadata": {},
   "source": [
    "### Below are some examples of evaluating arithematic expression in Python"
   ]
  },
  {
   "cell_type": "code",
   "execution_count": 4,
   "id": "17ed2c65-f198-4fc4-9174-6a50115acd1d",
   "metadata": {},
   "outputs": [
    {
     "data": {
      "text/plain": [
       "17"
      ]
     },
     "execution_count": 4,
     "metadata": {},
     "output_type": "execute_result"
    }
   ],
   "source": [
    "#This is a simple arithematic expression to multiply then add integers\n",
    "\n",
    "(3*4)+5"
   ]
  },
  {
   "cell_type": "code",
   "execution_count": 5,
   "id": "a893d74e-b755-4deb-baa3-04050a55a31d",
   "metadata": {},
   "outputs": [
    {
     "data": {
      "text/plain": [
       "3.3333333333333335"
      ]
     },
     "execution_count": 5,
     "metadata": {},
     "output_type": "execute_result"
    }
   ],
   "source": [
    "#This will convert 200 minutes into hours by dividing by 60 \n",
    "\n",
    "200/60"
   ]
  },
  {
   "cell_type": "markdown",
   "id": "5a7ff873-9a59-4b23-8862-9a34a7d3187e",
   "metadata": {},
   "source": [
    "## Author\n",
    "Athira.M"
   ]
  },
  {
   "cell_type": "code",
   "execution_count": null,
   "id": "29bebcdf-6739-496a-af97-e37a268e5af8",
   "metadata": {},
   "outputs": [],
   "source": []
  }
 ],
 "metadata": {
  "kernelspec": {
   "display_name": "Python 3 (ipykernel)",
   "language": "python",
   "name": "python3"
  },
  "language_info": {
   "codemirror_mode": {
    "name": "ipython",
    "version": 3
   },
   "file_extension": ".py",
   "mimetype": "text/x-python",
   "name": "python",
   "nbconvert_exporter": "python",
   "pygments_lexer": "ipython3",
   "version": "3.9.23"
  }
 },
 "nbformat": 4,
 "nbformat_minor": 5
}
